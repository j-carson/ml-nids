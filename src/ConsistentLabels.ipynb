{
 "cells": [
  {
   "cell_type": "markdown",
   "metadata": {},
   "source": [
    "# Consistent Labels\n",
    "\n",
    "The purpose of this notebook is to create a dictionary of attack labels to numbers that\n",
    "is consistent across all of the notebooks. The attacks are labeled by most-frequent to least-frequent\n",
    "based on the frequency in the training set.  In addition, I create lists of the most frequent values \n",
    "of the service, protocol, and TCP state labels. \n",
    "\n",
    "The consistent labels and lists are output to a fle called consistent_labels.py to be\n",
    "imported by other notebooks."
   ]
  },
  {
   "cell_type": "code",
   "execution_count": 31,
   "metadata": {},
   "outputs": [],
   "source": [
    "import pandas as pd\n",
    "import numpy as np\n",
    "\n",
    "from pathlib import Path\n",
    "import pickle"
   ]
  },
  {
   "cell_type": "code",
   "execution_count": 2,
   "metadata": {},
   "outputs": [
    {
     "data": {
      "text/plain": [
       "'Connected: @nb15'"
      ]
     },
     "execution_count": 2,
     "metadata": {},
     "output_type": "execute_result"
    }
   ],
   "source": [
    "%load_ext sql\n",
    "%config SqlMagic.autopandas = True\n",
    "%sql postgres://localhost/nb15"
   ]
  },
  {
   "cell_type": "code",
   "execution_count": 7,
   "metadata": {},
   "outputs": [
    {
     "name": "stdout",
     "output_type": "stream",
     "text": [
      " * postgres://localhost/nb15\n",
      "1524031 rows affected.\n"
     ]
    }
   ],
   "source": [
    "X_train = %sql select * from full_split where train_set = True;"
   ]
  },
  {
   "cell_type": "code",
   "execution_count": 9,
   "metadata": {},
   "outputs": [],
   "source": [
    "targets = ['label', 'attack_cat']\n",
    "Y_train = X_train[targets]\n",
    "X_train = X_train.drop(columns=targets)"
   ]
  },
  {
   "cell_type": "code",
   "execution_count": 14,
   "metadata": {},
   "outputs": [],
   "source": [
    "attack_cats = Y_train.attack_cat.value_counts()\n",
    "attack_cats_labeled = list(enumerate(attack_cats.index))"
   ]
  },
  {
   "cell_type": "code",
   "execution_count": 15,
   "metadata": {},
   "outputs": [
    {
     "data": {
      "text/plain": [
       "normal            1331257\n",
       "generic            129289\n",
       "exploits            26715\n",
       "fuzzers             14548\n",
       "dos                  9812\n",
       "reconnaissance       8393\n",
       "analysis             1607\n",
       "backdoors            1398\n",
       "shellcode             907\n",
       "worms                 105\n",
       "Name: attack_cat, dtype: int64"
      ]
     },
     "execution_count": 15,
     "metadata": {},
     "output_type": "execute_result"
    }
   ],
   "source": [
    "attack_cats"
   ]
  },
  {
   "cell_type": "code",
   "execution_count": 16,
   "metadata": {},
   "outputs": [
    {
     "data": {
      "text/plain": [
       "[(0, 'normal'),\n",
       " (1, 'generic'),\n",
       " (2, 'exploits'),\n",
       " (3, 'fuzzers'),\n",
       " (4, 'dos'),\n",
       " (5, 'reconnaissance'),\n",
       " (6, 'analysis'),\n",
       " (7, 'backdoors'),\n",
       " (8, 'shellcode'),\n",
       " (9, 'worms')]"
      ]
     },
     "execution_count": 16,
     "metadata": {},
     "output_type": "execute_result"
    }
   ],
   "source": [
    "attack_cats_labeled"
   ]
  },
  {
   "cell_type": "code",
   "execution_count": 17,
   "metadata": {},
   "outputs": [],
   "source": [
    "attack_cat_encoder = dict()\n",
    "for i,name in attack_cats_labeled:\n",
    "    attack_cat_encoder[name] = i "
   ]
  },
  {
   "cell_type": "code",
   "execution_count": 19,
   "metadata": {},
   "outputs": [
    {
     "data": {
      "text/plain": [
       "FIN    887217\n",
       "CON    336184\n",
       "INT    294381\n",
       "REQ      5477\n",
       "RST       319\n",
       "ECO       208\n",
       "CLO       106\n",
       "URH        67\n",
       "ACC        27\n",
       "PAR        14\n",
       "Name: state, dtype: int64"
      ]
     },
     "execution_count": 19,
     "metadata": {},
     "output_type": "execute_result"
    }
   ],
   "source": [
    "X_train.state.value_counts().head(10)"
   ]
  },
  {
   "cell_type": "code",
   "execution_count": 24,
   "metadata": {},
   "outputs": [
    {
     "data": {
      "text/plain": [
       "['FIN', 'CON', 'INT', 'REQ']"
      ]
     },
     "execution_count": 24,
     "metadata": {},
     "output_type": "execute_result"
    }
   ],
   "source": [
    "states = list(X_train.state.value_counts().head(4).index)\n",
    "states"
   ]
  },
  {
   "cell_type": "code",
   "execution_count": 22,
   "metadata": {},
   "outputs": [
    {
     "data": {
      "text/plain": [
       "-           746998\n",
       "dns         469203\n",
       "http        124258\n",
       "ftp-data     75436\n",
       "smtp         49213\n",
       "ftp          29355\n",
       "ssh          28340\n",
       "pop3           920\n",
       "dhcp           110\n",
       "ssl             90\n",
       "Name: service, dtype: int64"
      ]
     },
     "execution_count": 22,
     "metadata": {},
     "output_type": "execute_result"
    }
   ],
   "source": [
    "X_train.service.value_counts().head(10)"
   ]
  },
  {
   "cell_type": "code",
   "execution_count": 25,
   "metadata": {},
   "outputs": [
    {
     "data": {
      "text/plain": [
       "['FIN', 'CON', 'INT', 'REQ', 'RST', 'ECO', 'CLO']"
      ]
     },
     "execution_count": 25,
     "metadata": {},
     "output_type": "execute_result"
    }
   ],
   "source": [
    "services = list(X_train.state.value_counts().head(7).index)\n",
    "services"
   ]
  },
  {
   "cell_type": "code",
   "execution_count": 26,
   "metadata": {},
   "outputs": [
    {
     "data": {
      "text/plain": [
       "tcp     897031\n",
       "udp     594259\n",
       "unas      9736\n",
       "arp       6019\n",
       "ospf      4676\n",
       "sctp       907\n",
       "icmp       320\n",
       "any        258\n",
       "gre        193\n",
       "rsvp       173\n",
       "Name: proto, dtype: int64"
      ]
     },
     "execution_count": 26,
     "metadata": {},
     "output_type": "execute_result"
    }
   ],
   "source": [
    "X_train.proto.value_counts().head(10)"
   ]
  },
  {
   "cell_type": "code",
   "execution_count": 29,
   "metadata": {},
   "outputs": [
    {
     "data": {
      "text/plain": [
       "['tcp', 'udp', 'unas', 'arp', 'ospf']"
      ]
     },
     "execution_count": 29,
     "metadata": {},
     "output_type": "execute_result"
    }
   ],
   "source": [
    "protos = list(X_train.proto.value_counts().head(5).index)\n",
    "protos"
   ]
  },
  {
   "cell_type": "code",
   "execution_count": 41,
   "metadata": {},
   "outputs": [],
   "source": [
    "output = Path('consistent_labels.py')\n",
    "with open(output, 'w') as fp:\n",
    "    fp.write(f\"\"\"\n",
    "import pandas as pd    \n",
    "\n",
    "def get_attack_labels():\n",
    "    return {attack_cat_encoder}\n",
    "    \n",
    "def get_common_services():\n",
    "    return {services}\n",
    "    \n",
    "def get_common_protos():\n",
    "    return {protos}\n",
    "\n",
    "def get_common_states():\n",
    "    return {states}\n",
    "    \"\"\"\n",
    "            )"
   ]
  },
  {
   "cell_type": "code",
   "execution_count": 42,
   "metadata": {},
   "outputs": [
    {
     "name": "stdout",
     "output_type": "stream",
     "text": [
      "\n",
      "import pandas as pd    \n",
      "\n",
      "def get_attack_labels():\n",
      "    return {'normal': 0, 'generic': 1, 'exploits': 2, 'fuzzers': 3, 'dos': 4, 'reconnaissance': 5, 'analysis': 6, 'backdoors': 7, 'shellcode': 8, 'worms': 9}\n",
      "    \n",
      "def get_common_services():\n",
      "    return ['FIN', 'CON', 'INT', 'REQ', 'RST', 'ECO', 'CLO']\n",
      "    \n",
      "def get_common_protos():\n",
      "    return ['tcp', 'udp', 'unas', 'arp', 'ospf']\n",
      "\n",
      "def get_common_states():\n",
      "    return ['FIN', 'CON', 'INT', 'REQ']\n",
      "    "
     ]
    }
   ],
   "source": [
    "!cat consistent_labels.py"
   ]
  },
  {
   "cell_type": "code",
   "execution_count": null,
   "metadata": {},
   "outputs": [],
   "source": []
  }
 ],
 "metadata": {
  "kernelspec": {
   "display_name": "Python 3",
   "language": "python",
   "name": "python3"
  },
  "language_info": {
   "codemirror_mode": {
    "name": "ipython",
    "version": 3
   },
   "file_extension": ".py",
   "mimetype": "text/x-python",
   "name": "python",
   "nbconvert_exporter": "python",
   "pygments_lexer": "ipython3",
   "version": "3.6.8"
  }
 },
 "nbformat": 4,
 "nbformat_minor": 2
}
