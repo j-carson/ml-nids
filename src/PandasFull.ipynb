{
 "cells": [
  {
   "cell_type": "markdown",
   "metadata": {},
   "source": [
    "# Read full dataset into Pandas and save as pickle"
   ]
  },
  {
   "cell_type": "code",
   "execution_count": 1,
   "metadata": {},
   "outputs": [],
   "source": [
    "import pandas as pd\n",
    "import numpy as np"
   ]
  },
  {
   "cell_type": "code",
   "execution_count": 2,
   "metadata": {},
   "outputs": [
    {
     "name": "stdout",
     "output_type": "stream",
     "text": [
      "pandas 0.24.0\n",
      "numpy  1.15.4\n",
      "\n"
     ]
    }
   ],
   "source": [
    "%load_ext watermark\n",
    "%watermark -iv"
   ]
  },
  {
   "cell_type": "code",
   "execution_count": 3,
   "metadata": {},
   "outputs": [],
   "source": [
    "# all of the names from the features file"
   ]
  },
  {
   "cell_type": "code",
   "execution_count": 4,
   "metadata": {},
   "outputs": [],
   "source": [
    "names = [ \"srcip\", \"sport\", \"dstip\", \"dsport\", \"proto\", \"state\",\n",
    "    \"dur\", \"sbytes\", \"dbytes\", \"sttl\", \"dttl\", \"sloss\", \"dloss\",\n",
    "    \"service\", \"sload\", \"dload\", \"spkts\", \"dpkts\", \"swin\", \"dwin\",\n",
    "    \"stcpb\", \"dtcpb\", \"smeansz\", \"dmeansz\", \"trans_depth\", \"res_bdy_len\",\n",
    "    \"sjit\", \"djit\", \"stime\", \"ltime\", \"sintpkt\", \"dintpkt\", \"tcprtt\",\n",
    "    \"synack\", \"ackdat\", \"is_sm_ips_ports\", \"ct_state_ttl\",\n",
    "    \"ct_flw_http_mthd\", \"is_ftp_login\", \"ct_ftp_cmd\", \"ct_srv_src\",\n",
    "    \"ct_srv_dst\", \"ct_dst_ltm\", \"ct_src_ltm\", \"ct_src_dport_ltm\",\n",
    "    \"ct_dst_sport_ltm\", \"ct_dst_src_ltm\", \"attack_cat\", \"label\"\n",
    "]"
   ]
  },
  {
   "cell_type": "code",
   "execution_count": 5,
   "metadata": {},
   "outputs": [
    {
     "data": {
      "text/plain": [
       "49"
      ]
     },
     "execution_count": 5,
     "metadata": {},
     "output_type": "execute_result"
    }
   ],
   "source": [
    "len(names)"
   ]
  },
  {
   "cell_type": "markdown",
   "metadata": {},
   "source": [
    "## Read the data in as raw strings\n",
    "\n",
    "Mainly because pandas.read_csv kept barfing"
   ]
  },
  {
   "cell_type": "code",
   "execution_count": 6,
   "metadata": {},
   "outputs": [],
   "source": [
    "# read all columns as strings because pandas kept puking \n",
    "# chunking to speed things up \n",
    "if False:\n",
    "    full_df = pd.DataFrame(columns=names)\n",
    "\n",
    "    CHUNKSIZE = 10000\n",
    "    chunks = [None] * CHUNKSIZE\n",
    "\n",
    "    with open('../data/full.csv', 'r') as fp:\n",
    "        reader = csv.DictReader(fp)\n",
    "        index = 0\n",
    "        chunk_idx = 0 \n",
    "        for row in reader:\n",
    "        \n",
    "            rowdata = np.array(list(row.values())).reshape(1,-1)\n",
    "            idf = pd.DataFrame(data=rowdata, index=[index], columns=row.keys())\n",
    "            chunks[chunk_idx] = idf\n",
    "            index += 1\n",
    "        \n",
    "            chunk_idx += 1\n",
    "            if chunk_idx == CHUNKSIZE:\n",
    "                full_df = full_df.append(pd.concat(chunks, axis=0))\n",
    "                chunk_idx = 0\n",
    "            \n",
    "    if chunk_idx != 0:\n",
    "        chunks = chunks[:chunk_idx]\n",
    "        full_df = full_df.append(pd.concat(chunks, axis=0))\n",
    "\n",
    "    pd.to_pickle(full_df, '../data/full_string_df')\n",
    "else:\n",
    "    full_df = pd.read_pickle('../data/full_string_df')"
   ]
  },
  {
   "cell_type": "code",
   "execution_count": 7,
   "metadata": {},
   "outputs": [
    {
     "data": {
      "text/plain": [
       "(2540044, 49)"
      ]
     },
     "execution_count": 7,
     "metadata": {},
     "output_type": "execute_result"
    }
   ],
   "source": [
    "full_df.shape"
   ]
  },
  {
   "cell_type": "markdown",
   "metadata": {},
   "source": [
    "## Convert the integer columns"
   ]
  },
  {
   "cell_type": "code",
   "execution_count": 8,
   "metadata": {},
   "outputs": [],
   "source": [
    "integers = [ \"sport\", \"dsport\", \n",
    "     \"sbytes\", \"dbytes\", \"sttl\", \"dttl\", \"sloss\", \"dloss\",\n",
    "     \"spkts\", \"dpkts\", \"swin\", \"dwin\",\n",
    "    \"stcpb\", \"dtcpb\", \"smeansz\", \"dmeansz\", \"trans_depth\", \"res_bdy_len\",\n",
    "     \"stime\", \"ltime\",  \"is_sm_ips_ports\", \"ct_state_ttl\",\n",
    "    \"ct_flw_http_mthd\", \"is_ftp_login\", \"ct_ftp_cmd\", \"ct_srv_src\",\n",
    "    \"ct_srv_dst\", \"ct_dst_ltm\", \"ct_src_ltm\", \"ct_src_dport_ltm\",\n",
    "    \"ct_dst_sport_ltm\", \"ct_dst_src_ltm\", \"label\"\n",
    "]\n",
    "\n",
    "strings = [ \"srcip\",  \"dstip\", \"proto\", \"state\", \"service\", \"attack_cat\"\n",
    "]\n",
    "\n",
    "floats = [  \"dur\",  \"sload\", \"dload\", \n",
    "    \"sjit\", \"djit\", \"sintpkt\", \"dintpkt\", \"tcprtt\",\n",
    "    \"synack\", \"ackdat\"\n",
    "]\n",
    "\n",
    "nulls = [ '-', ' ', '' ]"
   ]
  },
  {
   "cell_type": "code",
   "execution_count": 9,
   "metadata": {},
   "outputs": [
    {
     "data": {
      "text/html": [
       "<div>\n",
       "<style scoped>\n",
       "    .dataframe tbody tr th:only-of-type {\n",
       "        vertical-align: middle;\n",
       "    }\n",
       "\n",
       "    .dataframe tbody tr th {\n",
       "        vertical-align: top;\n",
       "    }\n",
       "\n",
       "    .dataframe thead th {\n",
       "        text-align: right;\n",
       "    }\n",
       "</style>\n",
       "<table border=\"1\" class=\"dataframe\">\n",
       "  <thead>\n",
       "    <tr style=\"text-align: right;\">\n",
       "      <th></th>\n",
       "      <th>srcip</th>\n",
       "      <th>sport</th>\n",
       "      <th>dstip</th>\n",
       "      <th>dsport</th>\n",
       "      <th>proto</th>\n",
       "      <th>state</th>\n",
       "      <th>dur</th>\n",
       "      <th>sbytes</th>\n",
       "      <th>dbytes</th>\n",
       "      <th>sttl</th>\n",
       "      <th>...</th>\n",
       "      <th>ct_ftp_cmd</th>\n",
       "      <th>ct_srv_src</th>\n",
       "      <th>ct_srv_dst</th>\n",
       "      <th>ct_dst_ltm</th>\n",
       "      <th>ct_src_ltm</th>\n",
       "      <th>ct_src_dport_ltm</th>\n",
       "      <th>ct_dst_sport_ltm</th>\n",
       "      <th>ct_dst_src_ltm</th>\n",
       "      <th>attack_cat</th>\n",
       "      <th>label</th>\n",
       "    </tr>\n",
       "  </thead>\n",
       "  <tbody>\n",
       "    <tr>\n",
       "      <th>0</th>\n",
       "      <td>﻿59.166.0.0</td>\n",
       "      <td>1390</td>\n",
       "      <td>149.171.126.6</td>\n",
       "      <td>53</td>\n",
       "      <td>udp</td>\n",
       "      <td>CON</td>\n",
       "      <td>0.001055</td>\n",
       "      <td>132</td>\n",
       "      <td>164</td>\n",
       "      <td>31</td>\n",
       "      <td>...</td>\n",
       "      <td>0</td>\n",
       "      <td>3</td>\n",
       "      <td>7</td>\n",
       "      <td>1</td>\n",
       "      <td>3</td>\n",
       "      <td>1</td>\n",
       "      <td>1</td>\n",
       "      <td>1</td>\n",
       "      <td></td>\n",
       "      <td>0</td>\n",
       "    </tr>\n",
       "    <tr>\n",
       "      <th>1</th>\n",
       "      <td>59.166.0.0</td>\n",
       "      <td>33661</td>\n",
       "      <td>149.171.126.9</td>\n",
       "      <td>1024</td>\n",
       "      <td>udp</td>\n",
       "      <td>CON</td>\n",
       "      <td>0.036133</td>\n",
       "      <td>528</td>\n",
       "      <td>304</td>\n",
       "      <td>31</td>\n",
       "      <td>...</td>\n",
       "      <td>0</td>\n",
       "      <td>2</td>\n",
       "      <td>4</td>\n",
       "      <td>2</td>\n",
       "      <td>3</td>\n",
       "      <td>1</td>\n",
       "      <td>1</td>\n",
       "      <td>2</td>\n",
       "      <td></td>\n",
       "      <td>0</td>\n",
       "    </tr>\n",
       "    <tr>\n",
       "      <th>2</th>\n",
       "      <td>59.166.0.6</td>\n",
       "      <td>1464</td>\n",
       "      <td>149.171.126.7</td>\n",
       "      <td>53</td>\n",
       "      <td>udp</td>\n",
       "      <td>CON</td>\n",
       "      <td>0.001119</td>\n",
       "      <td>146</td>\n",
       "      <td>178</td>\n",
       "      <td>31</td>\n",
       "      <td>...</td>\n",
       "      <td>0</td>\n",
       "      <td>12</td>\n",
       "      <td>8</td>\n",
       "      <td>1</td>\n",
       "      <td>2</td>\n",
       "      <td>2</td>\n",
       "      <td>1</td>\n",
       "      <td>1</td>\n",
       "      <td></td>\n",
       "      <td>0</td>\n",
       "    </tr>\n",
       "    <tr>\n",
       "      <th>3</th>\n",
       "      <td>59.166.0.5</td>\n",
       "      <td>3593</td>\n",
       "      <td>149.171.126.5</td>\n",
       "      <td>53</td>\n",
       "      <td>udp</td>\n",
       "      <td>CON</td>\n",
       "      <td>0.001209</td>\n",
       "      <td>132</td>\n",
       "      <td>164</td>\n",
       "      <td>31</td>\n",
       "      <td>...</td>\n",
       "      <td>0</td>\n",
       "      <td>6</td>\n",
       "      <td>9</td>\n",
       "      <td>1</td>\n",
       "      <td>1</td>\n",
       "      <td>1</td>\n",
       "      <td>1</td>\n",
       "      <td>1</td>\n",
       "      <td></td>\n",
       "      <td>0</td>\n",
       "    </tr>\n",
       "    <tr>\n",
       "      <th>4</th>\n",
       "      <td>59.166.0.3</td>\n",
       "      <td>49664</td>\n",
       "      <td>149.171.126.0</td>\n",
       "      <td>53</td>\n",
       "      <td>udp</td>\n",
       "      <td>CON</td>\n",
       "      <td>0.001169</td>\n",
       "      <td>146</td>\n",
       "      <td>178</td>\n",
       "      <td>31</td>\n",
       "      <td>...</td>\n",
       "      <td>0</td>\n",
       "      <td>7</td>\n",
       "      <td>9</td>\n",
       "      <td>1</td>\n",
       "      <td>1</td>\n",
       "      <td>1</td>\n",
       "      <td>1</td>\n",
       "      <td>1</td>\n",
       "      <td></td>\n",
       "      <td>0</td>\n",
       "    </tr>\n",
       "  </tbody>\n",
       "</table>\n",
       "<p>5 rows × 49 columns</p>\n",
       "</div>"
      ],
      "text/plain": [
       "         srcip  sport          dstip dsport proto state       dur sbytes  \\\n",
       "0  ﻿59.166.0.0   1390  149.171.126.6     53   udp   CON  0.001055    132   \n",
       "1   59.166.0.0  33661  149.171.126.9   1024   udp   CON  0.036133    528   \n",
       "2   59.166.0.6   1464  149.171.126.7     53   udp   CON  0.001119    146   \n",
       "3   59.166.0.5   3593  149.171.126.5     53   udp   CON  0.001209    132   \n",
       "4   59.166.0.3  49664  149.171.126.0     53   udp   CON  0.001169    146   \n",
       "\n",
       "  dbytes sttl  ... ct_ftp_cmd ct_srv_src ct_srv_dst ct_dst_ltm ct_src_ltm  \\\n",
       "0    164   31  ...          0          3          7          1          3   \n",
       "1    304   31  ...          0          2          4          2          3   \n",
       "2    178   31  ...          0         12          8          1          2   \n",
       "3    164   31  ...          0          6          9          1          1   \n",
       "4    178   31  ...          0          7          9          1          1   \n",
       "\n",
       "  ct_src_dport_ltm ct_dst_sport_ltm ct_dst_src_ltm attack_cat label  \n",
       "0                1                1              1                0  \n",
       "1                1                1              2                0  \n",
       "2                2                1              1                0  \n",
       "3                1                1              1                0  \n",
       "4                1                1              1                0  \n",
       "\n",
       "[5 rows x 49 columns]"
      ]
     },
     "execution_count": 9,
     "metadata": {},
     "output_type": "execute_result"
    }
   ],
   "source": [
    "full_df.head()"
   ]
  },
  {
   "cell_type": "code",
   "execution_count": 10,
   "metadata": {},
   "outputs": [],
   "source": [
    "# all the non-sloppy columns convert easily\n",
    "clean_ints = []\n",
    "\n",
    "for column in integers:\n",
    "    null_count = 0 \n",
    "    for s in full_df[column]:\n",
    "        if s in nulls:\n",
    "            null_count += 1\n",
    "            break\n",
    "    if null_count:\n",
    "        null_count = 0\n",
    "    else:\n",
    "        clean_ints.append(column)\n",
    "        \n",
    "for column in clean_ints:\n",
    "    full_df[column] = full_df[column].astype(np.int)\n",
    "    "
   ]
  },
  {
   "cell_type": "code",
   "execution_count": 11,
   "metadata": {},
   "outputs": [
    {
     "data": {
      "text/plain": [
       "['sport', 'dsport', 'ct_flw_http_mthd', 'is_ftp_login', 'ct_ftp_cmd']"
      ]
     },
     "execution_count": 11,
     "metadata": {},
     "output_type": "execute_result"
    }
   ],
   "source": [
    "# for the last few, need a special converter \n",
    "\n",
    "def tolerant_convert_int(s):\n",
    "    if s in nulls:\n",
    "        return 0\n",
    "    return int(s, 0)\n",
    "\n",
    "dirty_ints = [ column for column in integers if column not in clean_ints ]\n",
    "dirty_ints"
   ]
  },
  {
   "cell_type": "code",
   "execution_count": 12,
   "metadata": {},
   "outputs": [],
   "source": [
    "for column in dirty_ints:\n",
    "    full_df[column] = full_df[column].map(tolerant_convert_int)"
   ]
  },
  {
   "cell_type": "code",
   "execution_count": 13,
   "metadata": {},
   "outputs": [
    {
     "name": "stdout",
     "output_type": "stream",
     "text": [
      "<class 'pandas.core.frame.DataFrame'>\n",
      "Int64Index: 2540044 entries, 0 to 2540043\n",
      "Data columns (total 5 columns):\n",
      "sport               int64\n",
      "dsport              int64\n",
      "ct_flw_http_mthd    int64\n",
      "is_ftp_login        int64\n",
      "ct_ftp_cmd          int64\n",
      "dtypes: int64(5)\n",
      "memory usage: 116.3 MB\n"
     ]
    }
   ],
   "source": [
    "full_df[dirty_ints].info()"
   ]
  },
  {
   "cell_type": "markdown",
   "metadata": {},
   "source": [
    "## Pickle file checkpoint "
   ]
  },
  {
   "cell_type": "code",
   "execution_count": 14,
   "metadata": {},
   "outputs": [],
   "source": [
    "pd.to_pickle(full_df, '../data/converted_ints')"
   ]
  },
  {
   "cell_type": "code",
   "execution_count": 15,
   "metadata": {},
   "outputs": [],
   "source": [
    "full_df = pd.read_pickle('../data/converted_ints')"
   ]
  },
  {
   "cell_type": "markdown",
   "metadata": {},
   "source": [
    "## Convert the string columns"
   ]
  },
  {
   "cell_type": "code",
   "execution_count": 16,
   "metadata": {},
   "outputs": [],
   "source": [
    "for column in strings:\n",
    "    full_df[column] = full_df[column].str.replace(' ','')"
   ]
  },
  {
   "cell_type": "code",
   "execution_count": 17,
   "metadata": {},
   "outputs": [
    {
     "data": {
      "text/plain": [
       "['srcip', 'dstip', 'proto', 'state', 'service', 'attack_cat']"
      ]
     },
     "execution_count": 17,
     "metadata": {},
     "output_type": "execute_result"
    }
   ],
   "source": [
    "strings"
   ]
  },
  {
   "cell_type": "code",
   "execution_count": 18,
   "metadata": {},
   "outputs": [
    {
     "data": {
      "text/plain": [
       "['proto', 'state', 'service', 'attack_cat']"
      ]
     },
     "execution_count": 18,
     "metadata": {},
     "output_type": "execute_result"
    }
   ],
   "source": [
    "categories = strings[2:]\n",
    "categories"
   ]
  },
  {
   "cell_type": "code",
   "execution_count": 19,
   "metadata": {},
   "outputs": [],
   "source": [
    "full_df['proto'] = full_df['proto'].astype('category')\n",
    "full_df['state'] = full_df['state'].astype('category')\n",
    "full_df['service'] = full_df['service'].astype('category')"
   ]
  },
  {
   "cell_type": "code",
   "execution_count": 20,
   "metadata": {},
   "outputs": [
    {
     "data": {
      "text/plain": [
       "                  2218761\n",
       "Generic            215481\n",
       "Exploits            44525\n",
       "Fuzzers             24246\n",
       "DoS                 16353\n",
       "Reconnaissance      13987\n",
       "Analysis             2677\n",
       "Backdoor             1795\n",
       "Shellcode            1511\n",
       "Backdoors             534\n",
       "Worms                 174\n",
       "Name: attack_cat, dtype: int64"
      ]
     },
     "execution_count": 20,
     "metadata": {},
     "output_type": "execute_result"
    }
   ],
   "source": [
    "full_df['attack_cat'].value_counts()"
   ]
  },
  {
   "cell_type": "code",
   "execution_count": 21,
   "metadata": {},
   "outputs": [],
   "source": [
    "# From value counts above: Normal category is an empty string and Backdoor attack spelled two ways\n",
    "full_df.loc[full_df.eval('label == 0'), 'attack_cat'] = 'normal'\n",
    "full_df.loc[full_df.eval(\"attack_cat == 'Backdoor'\"), 'attack_cat'] = 'Backdoors'"
   ]
  },
  {
   "cell_type": "code",
   "execution_count": 22,
   "metadata": {},
   "outputs": [
    {
     "data": {
      "text/plain": [
       "normal            2218761\n",
       "generic            215481\n",
       "exploits            44525\n",
       "fuzzers             24246\n",
       "dos                 16353\n",
       "reconnaissance      13987\n",
       "analysis             2677\n",
       "backdoors            2329\n",
       "shellcode            1511\n",
       "worms                 174\n",
       "Name: attack_cat, dtype: int64"
      ]
     },
     "execution_count": 22,
     "metadata": {},
     "output_type": "execute_result"
    }
   ],
   "source": [
    "full_df['attack_cat'] = full_df['attack_cat'].str.lower()\n",
    "full_df['attack_cat'].value_counts()"
   ]
  },
  {
   "cell_type": "code",
   "execution_count": 23,
   "metadata": {},
   "outputs": [],
   "source": [
    "full_df['attack_cat'] = full_df['attack_cat'].astype('category')"
   ]
  },
  {
   "cell_type": "markdown",
   "metadata": {},
   "source": [
    "## Pickle file checkpoint"
   ]
  },
  {
   "cell_type": "code",
   "execution_count": 24,
   "metadata": {},
   "outputs": [],
   "source": [
    "pd.to_pickle(full_df, '../data/converted_strings')"
   ]
  },
  {
   "cell_type": "code",
   "execution_count": 25,
   "metadata": {},
   "outputs": [],
   "source": [
    "full_df = pd.read_pickle('../data/converted_strings')"
   ]
  },
  {
   "cell_type": "markdown",
   "metadata": {},
   "source": [
    "## Convert float columns"
   ]
  },
  {
   "cell_type": "code",
   "execution_count": 26,
   "metadata": {},
   "outputs": [
    {
     "data": {
      "text/plain": [
       "['dur',\n",
       " 'sload',\n",
       " 'dload',\n",
       " 'sjit',\n",
       " 'djit',\n",
       " 'sintpkt',\n",
       " 'dintpkt',\n",
       " 'tcprtt',\n",
       " 'synack',\n",
       " 'ackdat']"
      ]
     },
     "execution_count": 26,
     "metadata": {},
     "output_type": "execute_result"
    }
   ],
   "source": [
    "# all that should be left is floats!\n",
    "floats"
   ]
  },
  {
   "cell_type": "code",
   "execution_count": 27,
   "metadata": {},
   "outputs": [],
   "source": [
    "for column in floats:\n",
    "    full_df[column] = pd.to_numeric(full_df[column])"
   ]
  },
  {
   "cell_type": "code",
   "execution_count": 28,
   "metadata": {},
   "outputs": [],
   "source": [
    "pd.to_pickle(full_df, '../data/full_pandas_final')"
   ]
  },
  {
   "cell_type": "code",
   "execution_count": 29,
   "metadata": {},
   "outputs": [
    {
     "name": "stdout",
     "output_type": "stream",
     "text": [
      "<class 'pandas.core.frame.DataFrame'>\n",
      "Int64Index: 2540044 entries, 0 to 2540043\n",
      "Data columns (total 49 columns):\n",
      "srcip               object\n",
      "sport               int64\n",
      "dstip               object\n",
      "dsport              int64\n",
      "proto               category\n",
      "state               category\n",
      "dur                 float64\n",
      "sbytes              int64\n",
      "dbytes              int64\n",
      "sttl                int64\n",
      "dttl                int64\n",
      "sloss               int64\n",
      "dloss               int64\n",
      "service             category\n",
      "sload               float64\n",
      "dload               float64\n",
      "spkts               int64\n",
      "dpkts               int64\n",
      "swin                int64\n",
      "dwin                int64\n",
      "stcpb               int64\n",
      "dtcpb               int64\n",
      "smeansz             int64\n",
      "dmeansz             int64\n",
      "trans_depth         int64\n",
      "res_bdy_len         int64\n",
      "sjit                float64\n",
      "djit                float64\n",
      "stime               int64\n",
      "ltime               int64\n",
      "sintpkt             float64\n",
      "dintpkt             float64\n",
      "tcprtt              float64\n",
      "synack              float64\n",
      "ackdat              float64\n",
      "is_sm_ips_ports     int64\n",
      "ct_state_ttl        int64\n",
      "ct_flw_http_mthd    int64\n",
      "is_ftp_login        int64\n",
      "ct_ftp_cmd          int64\n",
      "ct_srv_src          int64\n",
      "ct_srv_dst          int64\n",
      "ct_dst_ltm          int64\n",
      "ct_src_ltm          int64\n",
      "ct_src_dport_ltm    int64\n",
      "ct_dst_sport_ltm    int64\n",
      "ct_dst_src_ltm      int64\n",
      "attack_cat          category\n",
      "label               int64\n",
      "dtypes: category(4), float64(10), int64(33), object(2)\n",
      "memory usage: 903.5+ MB\n"
     ]
    }
   ],
   "source": [
    "full_df.info()"
   ]
  }
 ],
 "metadata": {
  "kernelspec": {
   "display_name": "Python 3",
   "language": "python",
   "name": "python3"
  },
  "language_info": {
   "codemirror_mode": {
    "name": "ipython",
    "version": 3
   },
   "file_extension": ".py",
   "mimetype": "text/x-python",
   "name": "python",
   "nbconvert_exporter": "python",
   "pygments_lexer": "ipython3",
   "version": "3.6.8"
  }
 },
 "nbformat": 4,
 "nbformat_minor": 2
}
